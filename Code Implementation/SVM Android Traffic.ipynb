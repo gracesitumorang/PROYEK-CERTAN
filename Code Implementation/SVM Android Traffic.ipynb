{
 "cells": [
  {
   "cell_type": "markdown",
   "id": "99795e27",
   "metadata": {},
   "source": [
    "## Necessary Imports"
   ]
  },
  {
   "cell_type": "code",
   "execution_count": 4,
   "id": "191f52af",
   "metadata": {},
   "outputs": [],
   "source": [
    "import matplotlib.pyplot as plt\n"
   ]
  },
  {
   "cell_type": "code",
   "execution_count": 5,
   "id": "0f71cf68",
   "metadata": {},
   "outputs": [],
   "source": [
    "import pandas as pd\n",
    "import numpy as np \n",
    "import matplotlib.pyplot as plt\n"
   ]
  },
  {
   "cell_type": "markdown",
   "id": "7d87c2ec",
   "metadata": {},
   "source": [
    "## About Android Traffic Dataset"
   ]
  },
  {
   "cell_type": "markdown",
   "id": "5f897bc6",
   "metadata": {},
   "source": [
    "Public Source - Kaggle:\n",
    "https://www.kaggle.com/datasets/xwolf12/network-traffic-android-malware\n",
    "\n",
    "Paper:\n",
    "Cao, D., Wang, S., Li, Q., Cheny, Z., Yan, Q., Peng, L., & Yang, B. (2016, August). DroidCollector: A High Performance Framework for High Quality Android Traffic Collection. In Trustcom/BigDataSE/I SPA, 2016 IEEE (pp. 1753-1758). IEEE"
   ]
  },
  {
   "cell_type": "markdown",
   "id": "2cb2ce5b",
   "metadata": {},
   "source": [
    "## Load Data from CSV File\n"
   ]
  },
  {
   "cell_type": "code",
   "execution_count": 11,
   "id": "f064d581",
   "metadata": {},
   "outputs": [
    {
     "data": {
      "text/html": [
       "<div>\n",
       "<style scoped>\n",
       "    .dataframe tbody tr th:only-of-type {\n",
       "        vertical-align: middle;\n",
       "    }\n",
       "\n",
       "    .dataframe tbody tr th {\n",
       "        vertical-align: top;\n",
       "    }\n",
       "\n",
       "    .dataframe thead th {\n",
       "        text-align: right;\n",
       "    }\n",
       "</style>\n",
       "<table border=\"1\" class=\"dataframe\">\n",
       "  <thead>\n",
       "    <tr style=\"text-align: right;\">\n",
       "      <th></th>\n",
       "      <th>name</th>\n",
       "      <th>tcp_packets</th>\n",
       "      <th>dist_port_tcp</th>\n",
       "      <th>external_ips</th>\n",
       "      <th>vulume_bytes</th>\n",
       "      <th>udp_packets</th>\n",
       "      <th>tcp_urg_packet</th>\n",
       "      <th>source_app_packets</th>\n",
       "      <th>remote_app_packets</th>\n",
       "      <th>source_app_bytes</th>\n",
       "      <th>remote_app_bytes</th>\n",
       "      <th>duracion</th>\n",
       "      <th>avg_local_pkt_rate</th>\n",
       "      <th>avg_remote_pkt_rate</th>\n",
       "      <th>source_app_packets.1</th>\n",
       "      <th>dns_query_times</th>\n",
       "      <th>type</th>\n",
       "    </tr>\n",
       "  </thead>\n",
       "  <tbody>\n",
       "    <tr>\n",
       "      <th>0</th>\n",
       "      <td>AntiVirus</td>\n",
       "      <td>36</td>\n",
       "      <td>6</td>\n",
       "      <td>3</td>\n",
       "      <td>3911</td>\n",
       "      <td>0</td>\n",
       "      <td>0</td>\n",
       "      <td>39</td>\n",
       "      <td>33</td>\n",
       "      <td>5100</td>\n",
       "      <td>4140</td>\n",
       "      <td>NaN</td>\n",
       "      <td>NaN</td>\n",
       "      <td>NaN</td>\n",
       "      <td>39</td>\n",
       "      <td>3</td>\n",
       "      <td>benign</td>\n",
       "    </tr>\n",
       "    <tr>\n",
       "      <th>1</th>\n",
       "      <td>AntiVirus</td>\n",
       "      <td>117</td>\n",
       "      <td>0</td>\n",
       "      <td>9</td>\n",
       "      <td>23514</td>\n",
       "      <td>0</td>\n",
       "      <td>0</td>\n",
       "      <td>128</td>\n",
       "      <td>107</td>\n",
       "      <td>26248</td>\n",
       "      <td>24358</td>\n",
       "      <td>NaN</td>\n",
       "      <td>NaN</td>\n",
       "      <td>NaN</td>\n",
       "      <td>128</td>\n",
       "      <td>11</td>\n",
       "      <td>benign</td>\n",
       "    </tr>\n",
       "    <tr>\n",
       "      <th>2</th>\n",
       "      <td>AntiVirus</td>\n",
       "      <td>196</td>\n",
       "      <td>0</td>\n",
       "      <td>6</td>\n",
       "      <td>24151</td>\n",
       "      <td>0</td>\n",
       "      <td>0</td>\n",
       "      <td>205</td>\n",
       "      <td>214</td>\n",
       "      <td>163887</td>\n",
       "      <td>24867</td>\n",
       "      <td>NaN</td>\n",
       "      <td>NaN</td>\n",
       "      <td>NaN</td>\n",
       "      <td>205</td>\n",
       "      <td>9</td>\n",
       "      <td>benign</td>\n",
       "    </tr>\n",
       "    <tr>\n",
       "      <th>3</th>\n",
       "      <td>AntiVirus</td>\n",
       "      <td>6</td>\n",
       "      <td>0</td>\n",
       "      <td>1</td>\n",
       "      <td>889</td>\n",
       "      <td>0</td>\n",
       "      <td>0</td>\n",
       "      <td>7</td>\n",
       "      <td>6</td>\n",
       "      <td>819</td>\n",
       "      <td>975</td>\n",
       "      <td>NaN</td>\n",
       "      <td>NaN</td>\n",
       "      <td>NaN</td>\n",
       "      <td>7</td>\n",
       "      <td>1</td>\n",
       "      <td>benign</td>\n",
       "    </tr>\n",
       "    <tr>\n",
       "      <th>4</th>\n",
       "      <td>AntiVirus</td>\n",
       "      <td>6</td>\n",
       "      <td>0</td>\n",
       "      <td>1</td>\n",
       "      <td>882</td>\n",
       "      <td>0</td>\n",
       "      <td>0</td>\n",
       "      <td>7</td>\n",
       "      <td>6</td>\n",
       "      <td>819</td>\n",
       "      <td>968</td>\n",
       "      <td>NaN</td>\n",
       "      <td>NaN</td>\n",
       "      <td>NaN</td>\n",
       "      <td>7</td>\n",
       "      <td>1</td>\n",
       "      <td>benign</td>\n",
       "    </tr>\n",
       "  </tbody>\n",
       "</table>\n",
       "</div>"
      ],
      "text/plain": [
       "        name  tcp_packets  dist_port_tcp  external_ips  vulume_bytes  \\\n",
       "0  AntiVirus           36              6             3          3911   \n",
       "1  AntiVirus          117              0             9         23514   \n",
       "2  AntiVirus          196              0             6         24151   \n",
       "3  AntiVirus            6              0             1           889   \n",
       "4  AntiVirus            6              0             1           882   \n",
       "\n",
       "   udp_packets  tcp_urg_packet  source_app_packets  remote_app_packets  \\\n",
       "0            0               0                  39                  33   \n",
       "1            0               0                 128                 107   \n",
       "2            0               0                 205                 214   \n",
       "3            0               0                   7                   6   \n",
       "4            0               0                   7                   6   \n",
       "\n",
       "   source_app_bytes  remote_app_bytes  duracion  avg_local_pkt_rate  \\\n",
       "0              5100              4140       NaN                 NaN   \n",
       "1             26248             24358       NaN                 NaN   \n",
       "2            163887             24867       NaN                 NaN   \n",
       "3               819               975       NaN                 NaN   \n",
       "4               819               968       NaN                 NaN   \n",
       "\n",
       "   avg_remote_pkt_rate  source_app_packets.1  dns_query_times    type  \n",
       "0                  NaN                    39                3  benign  \n",
       "1                  NaN                   128               11  benign  \n",
       "2                  NaN                   205                9  benign  \n",
       "3                  NaN                     7                1  benign  \n",
       "4                  NaN                     7                1  benign  "
      ]
     },
     "execution_count": 11,
     "metadata": {},
     "output_type": "execute_result"
    }
   ],
   "source": [
    "# Read the CSV file with the correct delimiter\n",
    "df = pd.read_csv('android_traffic.csv', sep=';')\n",
    "\n",
    "# Display the first few rows of the DataFrame\n",
    "df.head()\n"
   ]
  },
  {
   "cell_type": "code",
   "execution_count": 12,
   "id": "8f30c81a",
   "metadata": {},
   "outputs": [
    {
     "data": {
      "text/html": [
       "<div>\n",
       "<style scoped>\n",
       "    .dataframe tbody tr th:only-of-type {\n",
       "        vertical-align: middle;\n",
       "    }\n",
       "\n",
       "    .dataframe tbody tr th {\n",
       "        vertical-align: top;\n",
       "    }\n",
       "\n",
       "    .dataframe thead th {\n",
       "        text-align: right;\n",
       "    }\n",
       "</style>\n",
       "<table border=\"1\" class=\"dataframe\">\n",
       "  <thead>\n",
       "    <tr style=\"text-align: right;\">\n",
       "      <th></th>\n",
       "      <th>name</th>\n",
       "      <th>tcp_packets</th>\n",
       "      <th>dist_port_tcp</th>\n",
       "      <th>external_ips</th>\n",
       "      <th>vulume_bytes</th>\n",
       "      <th>udp_packets</th>\n",
       "      <th>tcp_urg_packet</th>\n",
       "      <th>source_app_packets</th>\n",
       "      <th>remote_app_packets</th>\n",
       "      <th>source_app_bytes</th>\n",
       "      <th>remote_app_bytes</th>\n",
       "      <th>duracion</th>\n",
       "      <th>avg_local_pkt_rate</th>\n",
       "      <th>avg_remote_pkt_rate</th>\n",
       "      <th>source_app_packets.1</th>\n",
       "      <th>dns_query_times</th>\n",
       "      <th>type</th>\n",
       "    </tr>\n",
       "  </thead>\n",
       "  <tbody>\n",
       "    <tr>\n",
       "      <th>7840</th>\n",
       "      <td>Zsone</td>\n",
       "      <td>0</td>\n",
       "      <td>0</td>\n",
       "      <td>0</td>\n",
       "      <td>0</td>\n",
       "      <td>0</td>\n",
       "      <td>0</td>\n",
       "      <td>2</td>\n",
       "      <td>2</td>\n",
       "      <td>257</td>\n",
       "      <td>143</td>\n",
       "      <td>NaN</td>\n",
       "      <td>NaN</td>\n",
       "      <td>NaN</td>\n",
       "      <td>2</td>\n",
       "      <td>2</td>\n",
       "      <td>malicious</td>\n",
       "    </tr>\n",
       "    <tr>\n",
       "      <th>7841</th>\n",
       "      <td>Zsone</td>\n",
       "      <td>4</td>\n",
       "      <td>4</td>\n",
       "      <td>1</td>\n",
       "      <td>296</td>\n",
       "      <td>0</td>\n",
       "      <td>0</td>\n",
       "      <td>5</td>\n",
       "      <td>1</td>\n",
       "      <td>86</td>\n",
       "      <td>382</td>\n",
       "      <td>NaN</td>\n",
       "      <td>NaN</td>\n",
       "      <td>NaN</td>\n",
       "      <td>5</td>\n",
       "      <td>1</td>\n",
       "      <td>malicious</td>\n",
       "    </tr>\n",
       "    <tr>\n",
       "      <th>7842</th>\n",
       "      <td>Zsone</td>\n",
       "      <td>0</td>\n",
       "      <td>0</td>\n",
       "      <td>0</td>\n",
       "      <td>0</td>\n",
       "      <td>0</td>\n",
       "      <td>0</td>\n",
       "      <td>2</td>\n",
       "      <td>2</td>\n",
       "      <td>257</td>\n",
       "      <td>143</td>\n",
       "      <td>NaN</td>\n",
       "      <td>NaN</td>\n",
       "      <td>NaN</td>\n",
       "      <td>2</td>\n",
       "      <td>2</td>\n",
       "      <td>malicious</td>\n",
       "    </tr>\n",
       "    <tr>\n",
       "      <th>7843</th>\n",
       "      <td>Zsone</td>\n",
       "      <td>0</td>\n",
       "      <td>0</td>\n",
       "      <td>0</td>\n",
       "      <td>0</td>\n",
       "      <td>0</td>\n",
       "      <td>0</td>\n",
       "      <td>2</td>\n",
       "      <td>2</td>\n",
       "      <td>257</td>\n",
       "      <td>143</td>\n",
       "      <td>NaN</td>\n",
       "      <td>NaN</td>\n",
       "      <td>NaN</td>\n",
       "      <td>2</td>\n",
       "      <td>2</td>\n",
       "      <td>malicious</td>\n",
       "    </tr>\n",
       "    <tr>\n",
       "      <th>7844</th>\n",
       "      <td>Zsone</td>\n",
       "      <td>0</td>\n",
       "      <td>0</td>\n",
       "      <td>0</td>\n",
       "      <td>0</td>\n",
       "      <td>0</td>\n",
       "      <td>0</td>\n",
       "      <td>2</td>\n",
       "      <td>2</td>\n",
       "      <td>257</td>\n",
       "      <td>143</td>\n",
       "      <td>NaN</td>\n",
       "      <td>NaN</td>\n",
       "      <td>NaN</td>\n",
       "      <td>2</td>\n",
       "      <td>2</td>\n",
       "      <td>malicious</td>\n",
       "    </tr>\n",
       "  </tbody>\n",
       "</table>\n",
       "</div>"
      ],
      "text/plain": [
       "       name  tcp_packets  dist_port_tcp  external_ips  vulume_bytes  \\\n",
       "7840  Zsone            0              0             0             0   \n",
       "7841  Zsone            4              4             1           296   \n",
       "7842  Zsone            0              0             0             0   \n",
       "7843  Zsone            0              0             0             0   \n",
       "7844  Zsone            0              0             0             0   \n",
       "\n",
       "      udp_packets  tcp_urg_packet  source_app_packets  remote_app_packets  \\\n",
       "7840            0               0                   2                   2   \n",
       "7841            0               0                   5                   1   \n",
       "7842            0               0                   2                   2   \n",
       "7843            0               0                   2                   2   \n",
       "7844            0               0                   2                   2   \n",
       "\n",
       "      source_app_bytes  remote_app_bytes  duracion  avg_local_pkt_rate  \\\n",
       "7840               257               143       NaN                 NaN   \n",
       "7841                86               382       NaN                 NaN   \n",
       "7842               257               143       NaN                 NaN   \n",
       "7843               257               143       NaN                 NaN   \n",
       "7844               257               143       NaN                 NaN   \n",
       "\n",
       "      avg_remote_pkt_rate  source_app_packets.1  dns_query_times       type  \n",
       "7840                  NaN                     2                2  malicious  \n",
       "7841                  NaN                     5                1  malicious  \n",
       "7842                  NaN                     2                2  malicious  \n",
       "7843                  NaN                     2                2  malicious  \n",
       "7844                  NaN                     2                2  malicious  "
      ]
     },
     "execution_count": 12,
     "metadata": {},
     "output_type": "execute_result"
    }
   ],
   "source": [
    "df.tail()"
   ]
  },
  {
   "cell_type": "code",
   "execution_count": 13,
   "id": "5a5838ba",
   "metadata": {},
   "outputs": [
    {
     "data": {
      "text/plain": [
       "133365"
      ]
     },
     "execution_count": 13,
     "metadata": {},
     "output_type": "execute_result"
    }
   ],
   "source": [
    "df.size"
   ]
  },
  {
   "cell_type": "code",
   "execution_count": 14,
   "id": "49c84644",
   "metadata": {},
   "outputs": [
    {
     "data": {
      "text/plain": [
       "(7845, 17)"
      ]
     },
     "execution_count": 14,
     "metadata": {},
     "output_type": "execute_result"
    }
   ],
   "source": [
    "df.shape"
   ]
  },
  {
   "cell_type": "code",
   "execution_count": 16,
   "id": "6ab56a36",
   "metadata": {},
   "outputs": [
    {
     "data": {
      "text/plain": [
       "name                    7845\n",
       "tcp_packets             7845\n",
       "dist_port_tcp           7845\n",
       "external_ips            7845\n",
       "vulume_bytes            7845\n",
       "udp_packets             7845\n",
       "tcp_urg_packet          7845\n",
       "source_app_packets      7845\n",
       "remote_app_packets      7845\n",
       "source_app_bytes        7845\n",
       "remote_app_bytes        7845\n",
       "duracion                   0\n",
       "avg_local_pkt_rate         0\n",
       "avg_remote_pkt_rate        0\n",
       "source_app_packets.1    7845\n",
       "dns_query_times         7845\n",
       "type                    7845\n",
       "dtype: int64"
      ]
     },
     "execution_count": 16,
     "metadata": {},
     "output_type": "execute_result"
    }
   ],
   "source": [
    "df.count()"
   ]
  },
  {
   "cell_type": "code",
   "execution_count": 19,
   "id": "fee8d066",
   "metadata": {},
   "outputs": [
    {
     "data": {
      "text/plain": [
       "benign       4704\n",
       "malicious    3141\n",
       "Name: type, dtype: int64"
      ]
     },
     "execution_count": 19,
     "metadata": {},
     "output_type": "execute_result"
    }
   ],
   "source": [
    "df['type'].value_counts()"
   ]
  },
  {
   "cell_type": "markdown",
   "id": "7409051f",
   "metadata": {},
   "source": [
    "## Distribution of the Classes\n"
   ]
  },
  {
   "cell_type": "code",
   "execution_count": 25,
   "id": "28f9c99d",
   "metadata": {},
   "outputs": [
    {
     "name": "stdout",
     "output_type": "stream",
     "text": [
      "benign       4704\n",
      "malicious    3141\n",
      "Name: type, dtype: int64\n"
     ]
    }
   ],
   "source": [
    "# Distribution of the classes\n",
    "class_distribution = df['type'].value_counts()\n",
    "print(class_distribution)\n"
   ]
  },
  {
   "cell_type": "markdown",
   "id": "5047132e",
   "metadata": {},
   "source": [
    "## Selection of unwanted columns"
   ]
  },
  {
   "cell_type": "code",
   "execution_count": 26,
   "id": "7ab3fc09",
   "metadata": {},
   "outputs": [],
   "source": [
    "# Selection of unwanted columns\n",
    "unwanted_columns = ['duracion', 'avg_local_pkt_rate', 'avg_remote_pkt_rate', 'source_app_packets.1']\n",
    "df = df.drop(unwanted_columns, axis=1)\n"
   ]
  },
  {
   "cell_type": "markdown",
   "id": "bf255e28",
   "metadata": {},
   "source": [
    "## Remove unwanted columns"
   ]
  },
  {
   "cell_type": "code",
   "execution_count": 28,
   "id": "14e3808c",
   "metadata": {
    "scrolled": true
   },
   "outputs": [],
   "source": [
    "# Check if columns exist before dropping\n",
    "columns_to_drop = [col for col in unwanted_columns if col in df.columns]"
   ]
  },
  {
   "cell_type": "code",
   "execution_count": 29,
   "id": "e211d53d",
   "metadata": {},
   "outputs": [],
   "source": [
    "# Drop unwanted columns\n",
    "df = df.drop(columns_to_drop, axis=1)"
   ]
  },
  {
   "cell_type": "markdown",
   "id": "f1d6620a",
   "metadata": {},
   "source": [
    "## Divide the data as Train/Test dataset"
   ]
  },
  {
   "cell_type": "code",
   "execution_count": 31,
   "id": "5d097751",
   "metadata": {},
   "outputs": [],
   "source": [
    "from sklearn.model_selection import train_test_split\n",
    "\n",
    "# Features (X) and target variable (y)\n",
    "X = df.drop('type', axis=1)\n",
    "y = df['type']\n"
   ]
  },
  {
   "cell_type": "code",
   "execution_count": 32,
   "id": "4c97717c",
   "metadata": {},
   "outputs": [],
   "source": [
    "# Split the data into train and test sets\n",
    "X_train, X_test, y_train, y_test = train_test_split(X, y, test_size=0.2, random_state=42)"
   ]
  },
  {
   "cell_type": "code",
   "execution_count": 33,
   "id": "f5ad1624",
   "metadata": {},
   "outputs": [
    {
     "name": "stdout",
     "output_type": "stream",
     "text": [
      "Train set shape: (6276, 12) (6276,)\n",
      "Test set shape: (1569, 12) (1569,)\n"
     ]
    }
   ],
   "source": [
    "# Display the shapes of the train and test sets\n",
    "print(\"Train set shape:\", X_train.shape, y_train.shape)\n",
    "print(\"Test set shape:\", X_test.shape, y_test.shape)"
   ]
  },
  {
   "cell_type": "markdown",
   "id": "bdf6670b",
   "metadata": {},
   "source": [
    "## Modeling (SVM with Scikit-learn)"
   ]
  },
  {
   "cell_type": "code",
   "execution_count": 45,
   "id": "d398ed26",
   "metadata": {},
   "outputs": [],
   "source": [
    "# Get common columns in both sets\n",
    "common_columns = X_train.columns.intersection(X_test.columns)\n",
    "\n",
    "# Keep only the common columns in both sets\n",
    "X_train = X_train[common_columns]\n",
    "X_test = X_test[common_columns]\n"
   ]
  },
  {
   "cell_type": "code",
   "execution_count": 46,
   "id": "30e8bef1",
   "metadata": {},
   "outputs": [
    {
     "name": "stdout",
     "output_type": "stream",
     "text": [
      "Accuracy: 0.6022944550669216\n",
      "Confusion Matrix:\n",
      "[[937   1]\n",
      " [623   8]]\n",
      "Classification Report:\n",
      "              precision    recall  f1-score   support\n",
      "\n",
      "      benign       0.60      1.00      0.75       938\n",
      "   malicious       0.89      0.01      0.03       631\n",
      "\n",
      "    accuracy                           0.60      1569\n",
      "   macro avg       0.74      0.51      0.39      1569\n",
      "weighted avg       0.72      0.60      0.46      1569\n",
      "\n"
     ]
    }
   ],
   "source": [
    "# Initialize the SVM model\n",
    "svm_model = SVC()\n",
    "\n",
    "# Fit the model on the training data\n",
    "svm_model.fit(X_train, y_train)\n",
    "\n",
    "# Make predictions on the test data\n",
    "y_pred = svm_model.predict(X_test)\n",
    "\n",
    "# Evaluate the model\n",
    "accuracy = accuracy_score(y_test, y_pred)\n",
    "conf_matrix = confusion_matrix(y_test, y_pred)\n",
    "class_report = classification_report(y_test, y_pred)\n",
    "\n",
    "print(f\"Accuracy: {accuracy}\")\n",
    "print(f\"Confusion Matrix:\\n{conf_matrix}\")\n",
    "print(f\"Classification Report:\\n{class_report}\")\n"
   ]
  },
  {
   "cell_type": "markdown",
   "id": "1a9ab14c",
   "metadata": {},
   "source": [
    "## Evaluation (Results)"
   ]
  },
  {
   "cell_type": "code",
   "execution_count": 47,
   "id": "d437a6d7",
   "metadata": {},
   "outputs": [
    {
     "name": "stdout",
     "output_type": "stream",
     "text": [
      "Classification Report:\n",
      "               precision    recall  f1-score   support\n",
      "\n",
      "      benign       0.60      1.00      0.75       938\n",
      "   malicious       0.89      0.01      0.03       631\n",
      "\n",
      "    accuracy                           0.60      1569\n",
      "   macro avg       0.74      0.51      0.39      1569\n",
      "weighted avg       0.72      0.60      0.46      1569\n",
      "\n",
      "Confusion Matrix:\n",
      " [[937   1]\n",
      " [623   8]]\n"
     ]
    }
   ],
   "source": [
    "# Lakukan prediksi pada data uji\n",
    "y_pred = svm_model.predict(X_test)\n",
    "\n",
    "# Tampilkan laporan klasifikasi dan matriks kebingungan\n",
    "from sklearn.metrics import classification_report, confusion_matrix\n",
    "\n",
    "print(\"Classification Report:\\n\", classification_report(y_test, y_pred))\n",
    "print(\"Confusion Matrix:\\n\", confusion_matrix(y_test, y_pred))\n"
   ]
  },
  {
   "cell_type": "markdown",
   "id": "ddf6a3f9",
   "metadata": {},
   "source": [
    "## Visualisasi Data"
   ]
  },
  {
   "cell_type": "markdown",
   "id": "3baa25b2",
   "metadata": {},
   "source": [
    "### Plot Matriks Kebingungan "
   ]
  },
  {
   "cell_type": "code",
   "execution_count": 52,
   "id": "57d3f52b",
   "metadata": {},
   "outputs": [
    {
     "data": {
      "image/png": "[encoded data removed]",
      "text/plain": [
       "<Figure size 800x600 with 1 Axes>"
      ]
     },
     "metadata": {},
     "output_type": "display_data"
    }
   ],
   "source": [
    "import matplotlib.pyplot as plt\n",
    "import seaborn as sns\n",
    "from sklearn.metrics import confusion_matrix\n",
    "\n",
    "# Compute confusion matrix\n",
    "cm = confusion_matrix(y_test, y_pred)\n",
    "\n",
    "# Create a DataFrame from the confusion matrix\n",
    "cm_df = pd.DataFrame(cm, index=['benign', 'malicious'], columns=['benign', 'malicious'])\n",
    "\n",
    "# Plot confusion matrix\n",
    "plt.figure(figsize=(8, 6))\n",
    "sns.heatmap(cm_df, annot=True, fmt='d', cmap='Blues', cbar=False)\n",
    "plt.title('Confusion Matrix')\n",
    "plt.xlabel('Predicted')\n",
    "plt.ylabel('Actual')\n",
    "plt.show()\n"
   ]
  },
  {
   "cell_type": "code",
   "execution_count": 55,
   "id": "c1189cd6",
   "metadata": {},
   "outputs": [
    {
     "data": {
      "image/png": "[encoded data removed]",
      "text/plain": [
       "<Figure size 800x600 with 1 Axes>"
      ]
     },
     "metadata": {},
     "output_type": "display_data"
    }
   ],
   "source": [
    "from sklearn.metrics import roc_curve, auc\n",
    "from sklearn.preprocessing import LabelBinarizer\n",
    "import matplotlib.pyplot as plt\n",
    "\n",
    "# Convert labels to binary format\n",
    "lb = LabelBinarizer()\n",
    "y_test_bin = lb.fit_transform(y_test)\n",
    "y_pred_bin = lb.transform(y_pred)\n",
    "\n",
    "# Compute ROC curve and ROC area\n",
    "fpr, tpr, _ = roc_curve(y_test_bin, y_pred_bin)\n",
    "roc_auc = auc(fpr, tpr)\n",
    "\n",
    "# Plot ROC curve\n",
    "plt.figure(figsize=(8, 6))\n",
    "plt.plot(fpr, tpr, color='darkorange', lw=2, label='ROC curve (area = {:.2f})'.format(roc_auc))\n",
    "plt.plot([0, 1], [0, 1], color='navy', lw=2, linestyle='--')\n",
    "plt.xlim([0.0, 1.0])\n",
    "plt.ylim([0.0, 1.05])\n",
    "plt.xlabel('False Positive Rate')\n",
    "plt.ylabel('True Positive Rate')\n",
    "plt.title('Receiver Operating Characteristic (ROC) Curve')\n",
    "plt.legend(loc='lower right')\n",
    "plt.show()\n"
   ]
  },
  {
   "cell_type": "markdown",
   "id": "d89aa2c8",
   "metadata": {},
   "source": [
    "## Confusion Matrix Heatmap:\n",
    "Visualisasikan matriks kebingungan untuk melihat seberapa baik model Anda melakukan klasifikasi pada setiap kelas."
   ]
  },
  {
   "cell_type": "code",
   "execution_count": 56,
   "id": "163b24b3",
   "metadata": {},
   "outputs": [
    {
     "data": {
      "image/png": "[encoded data removed]",
      "text/plain": [
       "<Figure size 640x480 with 1 Axes>"
      ]
     },
     "metadata": {},
     "output_type": "display_data"
    }
   ],
   "source": [
    "import seaborn as sns\n",
    "sns.heatmap(conf_matrix, annot=True, fmt='d', cmap='Blues', cbar=False)\n",
    "plt.xlabel('Predicted')\n",
    "plt.ylabel('Actual')\n",
    "plt.title('Confusion Matrix Heatmap')\n",
    "plt.show()\n"
   ]
  },
  {
   "cell_type": "markdown",
   "id": "39d04ebd",
   "metadata": {},
   "source": [
    "## Receiver Operating Characteristic (ROC) Curve:\n",
    "Visualisasikan kurva ROC untuk mengukur kinerja model pada berbagai tingkat ambang."
   ]
  },
  {
   "cell_type": "code",
   "execution_count": 57,
   "id": "3ea274e8",
   "metadata": {},
   "outputs": [
    {
     "data": {
      "image/png": "[encoded data removed]",
      "text/plain": [
       "<Figure size 800x600 with 1 Axes>"
      ]
     },
     "metadata": {},
     "output_type": "display_data"
    }
   ],
   "source": [
    "from sklearn.metrics import roc_curve, auc\n",
    "from sklearn.preprocessing import LabelBinarizer\n",
    "\n",
    "# Convert labels to binary format\n",
    "lb = LabelBinarizer()\n",
    "y_test_bin = lb.fit_transform(y_test)\n",
    "y_pred_bin = lb.transform(y_pred)\n",
    "\n",
    "# Compute ROC curve and ROC area\n",
    "fpr, tpr, _ = roc_curve(y_test_bin.ravel(), y_pred_bin.ravel())\n",
    "roc_auc = auc(fpr, tpr)\n",
    "\n",
    "# Plot ROC curve\n",
    "plt.figure(figsize=(8, 6))\n",
    "plt.plot(fpr, tpr, color='darkorange', lw=2, label='ROC curve (area = {:.2f})'.format(roc_auc))\n",
    "plt.plot([0, 1], [0, 1], color='navy', lw=2, linestyle='--')\n",
    "plt.xlim([0.0, 1.0])\n",
    "plt.ylim([0.0, 1.05])\n",
    "plt.xlabel('False Positive Rate')\n",
    "plt.ylabel('True Positive Rate')\n",
    "plt.title('Receiver Operating Characteristic (ROC) Curve')\n",
    "plt.legend(loc='lower right')\n",
    "plt.show()\n"
   ]
  },
  {
   "cell_type": "markdown",
   "id": "7b0bc853",
   "metadata": {},
   "source": [
    "## Precision-Recall Curve:\n",
    "Visualisasikan kurva presisi-recall untuk mendapatkan pemahaman lebih lanjut tentang performa model pada klasifikasi yang tidak seimbang."
   ]
  },
  {
   "cell_type": "code",
   "execution_count": null,
   "id": "f5fc756e",
   "metadata": {},
   "outputs": [
    {
     "ename": "NameError",
     "evalue": "name 'y_test_bin' is not defined",
     "output_type": "error",
     "traceback": [
      "\u001b[1;31m---------------------------------------------------------------------------\u001b[0m",
      "\u001b[1;31mNameError\u001b[0m                                 Traceback (most recent call last)",
      "Cell \u001b[1;32mIn[2], line 4\u001b[0m\n\u001b[0;32m      1\u001b[0m \u001b[38;5;28;01mfrom\u001b[39;00m \u001b[38;5;21;01msklearn\u001b[39;00m\u001b[38;5;21;01m.\u001b[39;00m\u001b[38;5;21;01mmetrics\u001b[39;00m \u001b[38;5;28;01mimport\u001b[39;00m precision_recall_curve\n\u001b[0;32m      3\u001b[0m \u001b[38;5;66;03m# Compute precision-recall curve\u001b[39;00m\n\u001b[1;32m----> 4\u001b[0m precision, recall, _ \u001b[38;5;241m=\u001b[39m precision_recall_curve(y_test_bin\u001b[38;5;241m.\u001b[39mravel(), y_pred_bin\u001b[38;5;241m.\u001b[39mravel())\n\u001b[0;32m      6\u001b[0m \u001b[38;5;66;03m# Plot Precision-Recall curve\u001b[39;00m\n\u001b[0;32m      7\u001b[0m plt\u001b[38;5;241m.\u001b[39mfigure(figsize\u001b[38;5;241m=\u001b[39m(\u001b[38;5;241m8\u001b[39m, \u001b[38;5;241m6\u001b[39m))\n",
      "\u001b[1;31mNameError\u001b[0m: name 'y_test_bin' is not defined"
     ]
    }
   ],
   "source": [
    "from sklearn.metrics import precision_recall_curve\n",
    "\n",
    "# Compute precision-recall curve\n",
    "precision, recall, _ = precision_recall_curve(y_test_bin.ravel(), y_pred_bin.ravel())\n",
    "\n",
    "# Plot Precision-Recall curve\n",
    "plt.figure(figsize=(8, 6))\n",
    "plt.plot(recall, precision, color='darkorange', lw=2)\n",
    "plt.xlim([0.0, 1.0])\n",
    "plt.ylim([0.0, 1.05])\n",
    "plt.xlabel('Recall')\n",
    "plt.ylabel('Precision')\n",
    "plt.title('Precision-Recall Curve')\n",
    "plt.show()\n"
   ]
  },
  {
   "cell_type": "code",
   "execution_count": null,
   "id": "d0f67f80",
   "metadata": {},
   "outputs": [],
   "source": []
  },
  {
   "cell_type": "code",
   "execution_count": null,
   "metadata": {},
   "outputs": [],
   "source": []
  }
 ],
 "metadata": {
  "kernelspec": {
   "display_name": "Python 3 (ipykernel)",
   "language": "python",
   "name": "python3"
  },
  "language_info": {
   "codemirror_mode": {
    "name": "ipython",
    "version": 3
   },
   "file_extension": ".py",
   "mimetype": "text/x-python",
   "name": "python",
   "nbconvert_exporter": "python",
   "pygments_lexer": "ipython3",
   "version": "3.11.3"
  }
 },
 "nbformat": 4,
 "nbformat_minor": 5
}
